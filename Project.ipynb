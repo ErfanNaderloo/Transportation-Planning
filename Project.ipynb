{
  "nbformat": 4,
  "nbformat_minor": 0,
  "metadata": {
    "colab": {
      "provenance": []
    },
    "kernelspec": {
      "name": "python3",
      "display_name": "Python 3"
    },
    "language_info": {
      "name": "python"
    }
  },
  "cells": [
    {
      "cell_type": "code",
      "execution_count": null,
      "metadata": {
        "id": "dC-DbAxJiz_p"
      },
      "outputs": [],
      "source": [
        "import pandas as pd\n",
        "import matplotlib.ticker as ticker\n",
        "from scipy.stats import levene\n",
        "from scipy.stats import ttest_ind\n",
        "from scipy.stats import norm\n",
        "import seaborn as sns\n",
        "import matplotlib.pyplot as plt\n",
        "from scipy import stats\n",
        "import numpy as np\n",
        "\n",
        "import warnings\n",
        "warnings.filterwarnings('ignore')"
      ]
    },
    {
      "cell_type": "code",
      "source": [
        "df = pd.read_csv('q1final.csv')"
      ],
      "metadata": {
        "id": "nuMPqWRkSBi3"
      },
      "execution_count": null,
      "outputs": []
    },
    {
      "cell_type": "code",
      "source": [
        "df.info()"
      ],
      "metadata": {
        "id": "jtpvOEoDnkrH",
        "colab": {
          "base_uri": "https://localhost:8080/"
        },
        "outputId": "41430251-7c03-4e82-8e5d-b7def1840f3e"
      },
      "execution_count": null,
      "outputs": [
        {
          "output_type": "stream",
          "name": "stdout",
          "text": [
            "<class 'pandas.core.frame.DataFrame'>\n",
            "RangeIndex: 26768 entries, 0 to 26767\n",
            "Data columns (total 11 columns):\n",
            " #   Column             Non-Null Count  Dtype  \n",
            "---  ------             --------------  -----  \n",
            " 0   price_check_time   26768 non-null  object \n",
            " 1   passenger          26768 non-null  int64  \n",
            " 2   origin             26768 non-null  int64  \n",
            " 3   destination        26768 non-null  int64  \n",
            " 4   price              26768 non-null  int64  \n",
            " 5   subsidy            26768 non-null  int64  \n",
            " 6   distance           26507 non-null  float64\n",
            " 7   expected_duration  26498 non-null  float64\n",
            " 8   req_time           16717 non-null  object \n",
            " 9   driver             14403 non-null  float64\n",
            " 10  status             16717 non-null  float64\n",
            "dtypes: float64(4), int64(5), object(2)\n",
            "memory usage: 2.2+ MB\n"
          ]
        }
      ]
    },
    {
      "cell_type": "code",
      "source": [
        "#چک کردن داده های خالی\n",
        "nvc = pd.DataFrame(df.isnull().sum().sort_values(), columns=['Total Null Values'])\n",
        "nvc['Percentage'] = round(nvc['Total Null Values']/df.shape[0],3)*100\n",
        "print(nvc)\n"
      ],
      "metadata": {
        "colab": {
          "base_uri": "https://localhost:8080/"
        },
        "id": "itlT5fahTWfA",
        "outputId": "582107e7-610a-4acc-8ea7-4f08b875ac1f"
      },
      "execution_count": null,
      "outputs": [
        {
          "output_type": "stream",
          "name": "stdout",
          "text": [
            "                   Total Null Values  Percentage\n",
            "price_check_time                   0         0.0\n",
            "passenger                          0         0.0\n",
            "origin                             0         0.0\n",
            "destination                        0         0.0\n",
            "price                              0         0.0\n",
            "subsidy                            0         0.0\n",
            "distance                         261         1.0\n",
            "expected_duration                270         1.0\n",
            "req_time                       10051        37.5\n",
            "status                         10051        37.5\n",
            "driver                         12365        46.2\n"
          ]
        }
      ]
    },
    {
      "cell_type": "markdown",
      "source": [
        "قسمت اول-انجام پیش پردازشها"
      ],
      "metadata": {
        "id": "TQuY-yN5oQnl"
      }
    },
    {
      "cell_type": "code",
      "source": [
        "#حذف داده های خالی\n",
        "df.dropna(inplace=True)\n",
        "nvc = pd.DataFrame(df.isnull().sum().sort_values(), columns=['Total Null Values'])\n",
        "nvc['Percentage'] = round(nvc['Total Null Values']/df.shape[0],3)*100\n",
        "print(nvc)"
      ],
      "metadata": {
        "colab": {
          "base_uri": "https://localhost:8080/"
        },
        "id": "SjcOq4r4vM19",
        "outputId": "f031428d-2f98-420f-faa4-f25f4f8a9c69"
      },
      "execution_count": null,
      "outputs": [
        {
          "output_type": "stream",
          "name": "stdout",
          "text": [
            "                   Total Null Values  Percentage\n",
            "price_check_time                   0         0.0\n",
            "passenger                          0         0.0\n",
            "origin                             0         0.0\n",
            "destination                        0         0.0\n",
            "price                              0         0.0\n",
            "subsidy                            0         0.0\n",
            "distance                           0         0.0\n",
            "expected_duration                  0         0.0\n",
            "req_time                           0         0.0\n",
            "driver                             0         0.0\n",
            "status                             0         0.0\n"
          ]
        }
      ]
    },
    {
      "cell_type": "code",
      "source": [
        "modified_df = df.__deepcopy__()"
      ],
      "metadata": {
        "id": "RzWp9nZgxoi5"
      },
      "execution_count": null,
      "outputs": []
    },
    {
      "cell_type": "code",
      "source": [
        "#حذف داده های تکراری\n",
        "counter = 0\n",
        "rs,cs = df.shape\n",
        "modified_df.drop_duplicates(inplace=True)\n",
        "\n",
        "if modified_df.shape==(rs,cs):\n",
        "    print('\\n\\033[1mInference:\\033[0m The dataset doesn\\'t have any duplicates')\n",
        "else:\n",
        "    print(f'\\n\\033[1mInference:\\033[0m Number of duplicates dropped/fixed ---> {rs-df.shape[0]}')"
      ],
      "metadata": {
        "colab": {
          "base_uri": "https://localhost:8080/"
        },
        "id": "tVNNLlXfxqxd",
        "outputId": "e1c62629-130b-4ddf-8d3a-1ab2122185c3"
      },
      "execution_count": null,
      "outputs": [
        {
          "output_type": "stream",
          "name": "stdout",
          "text": [
            "\n",
            "\u001b[1mInference:\u001b[0m The dataset doesn't have any duplicates\n"
          ]
        }
      ]
    },
    {
      "cell_type": "code",
      "source": [
        "#انجام پیش پردازش روی زمانها و هزینه\n",
        "modified_df['price_check_date'] = pd.to_datetime(modified_df.price_check_time).dt.date\n",
        "modified_df['float_price_check_hour'] = pd.to_datetime(modified_df.price_check_time).dt.hour + pd.to_datetime(modified_df.price_check_time).dt.minute/60\n",
        "modified_df['price_check_hour'] = pd.to_datetime(modified_df.price_check_time).dt.hour\n",
        "modified_df['price_check_time'] = pd.to_datetime(modified_df.price_check_time).dt.time\n",
        "modified_df['req_date'] = pd.to_datetime(modified_df.req_time).dt.date\n",
        "modified_df['float_req_hour'] = pd.to_datetime(modified_df.req_time).dt.hour + pd.to_datetime(modified_df.req_time).dt.minute/60\n",
        "modified_df['req_hour'] = pd.to_datetime(modified_df.req_time).dt.hour\n",
        "modified_df['req_time'] = pd.to_datetime(modified_df.req_time).dt.time\n",
        "\n",
        "modified_df['price_after_subsidy'] = modified_df['price'] - modified_df['subsidy']\n",
        "\n",
        "modified_df = modified_df[['price_check_date','float_price_check_hour','price_check_hour','price_check_time','passenger','origin','destination','price','subsidy','price_after_subsidy','distance','expected_duration','req_date','float_req_hour','req_hour','req_time','driver','status']]\n"
      ],
      "metadata": {
        "id": "P-hFEb-sXV6R"
      },
      "execution_count": null,
      "outputs": []
    },
    {
      "cell_type": "code",
      "source": [
        "df2 = modified_df.__deepcopy__()"
      ],
      "metadata": {
        "id": "Aul4nTWLWGAs"
      },
      "execution_count": null,
      "outputs": []
    },
    {
      "cell_type": "code",
      "source": [
        "df2"
      ],
      "metadata": {
        "id": "uTjveM7tq-Y-",
        "colab": {
          "base_uri": "https://localhost:8080/",
          "height": 661
        },
        "outputId": "3d1e91df-e577-4f5a-992c-800fd56dff32"
      },
      "execution_count": null,
      "outputs": [
        {
          "output_type": "execute_result",
          "data": {
            "text/plain": [
              "      price_check_date  float_price_check_hour  price_check_hour  \\\n",
              "655         2021-01-02               17.300000                17   \n",
              "656         2021-01-03               23.883333                23   \n",
              "657         2021-01-04                7.983333                 7   \n",
              "658         2021-01-01               10.666667                10   \n",
              "659         2021-01-05               10.200000                10   \n",
              "...                ...                     ...               ...   \n",
              "26763       2021-01-07               10.316667                10   \n",
              "26764       2021-01-03               16.433333                16   \n",
              "26765       2021-01-06               17.483333                17   \n",
              "26766       2021-01-04               16.816667                16   \n",
              "26767       2021-01-05               20.083333                20   \n",
              "\n",
              "      price_check_time  passenger  origin  destination  price  subsidy  \\\n",
              "655           17:18:00       6747       0            0  65000    10000   \n",
              "656           23:53:00          0       0            0  55000    10000   \n",
              "657           07:59:00       1077       0            0  70000    10000   \n",
              "658           10:40:00       1177       0            0  55000    10000   \n",
              "659           10:12:00       1740       0            0  50000    10000   \n",
              "...                ...        ...     ...          ...    ...      ...   \n",
              "26763         10:19:00       3547       4            4  35000    10000   \n",
              "26764         16:26:00       4478       4            4  35000        0   \n",
              "26765         17:29:00       4333       4            4  45000    10000   \n",
              "26766         16:49:00       4594       4            4  60000    15000   \n",
              "26767         20:05:00       6062       4            4  35000    10000   \n",
              "\n",
              "       price_after_subsidy  distance  expected_duration    req_date  \\\n",
              "655                  55000    3608.0                7.0  2021-01-02   \n",
              "656                  45000    4155.0                8.0  2021-01-04   \n",
              "657                  60000    6526.0               10.0  2021-01-04   \n",
              "658                  45000    3535.0                6.0  2021-01-01   \n",
              "659                  40000    3088.0                7.0  2021-01-05   \n",
              "...                    ...       ...                ...         ...   \n",
              "26763                25000    1258.0                2.0  2021-01-07   \n",
              "26764                35000     154.0                1.0  2021-01-03   \n",
              "26765                35000    1088.0                3.0  2021-01-06   \n",
              "26766                45000    2299.0                5.0  2021-01-04   \n",
              "26767                25000    1717.0                5.0  2021-01-05   \n",
              "\n",
              "       float_req_hour  req_hour  req_time  driver  status  \n",
              "655         17.383333        17  17:23:00     1.0     1.0  \n",
              "656          0.033333         0  00:02:00     2.0     1.0  \n",
              "657          8.016667         8  08:01:00     2.0     1.0  \n",
              "658         10.716667        10  10:43:00     2.0     2.0  \n",
              "659         10.216667        10  10:13:00     2.0     1.0  \n",
              "...               ...       ...       ...     ...     ...  \n",
              "26763       10.350000        10  10:21:00  1642.0     1.0  \n",
              "26764       16.566667        16  16:34:00  1649.0     1.0  \n",
              "26765       17.550000        17  17:33:00  1676.0     1.0  \n",
              "26766       16.833333        16  16:50:00  1685.0     1.0  \n",
              "26767       20.150000        20  20:09:00  1728.0     1.0  \n",
              "\n",
              "[14123 rows x 18 columns]"
            ],
            "text/html": [
              "\n",
              "  <div id=\"df-e46a34d5-1606-4b1f-9e77-26d6db682cfc\">\n",
              "    <div class=\"colab-df-container\">\n",
              "      <div>\n",
              "<style scoped>\n",
              "    .dataframe tbody tr th:only-of-type {\n",
              "        vertical-align: middle;\n",
              "    }\n",
              "\n",
              "    .dataframe tbody tr th {\n",
              "        vertical-align: top;\n",
              "    }\n",
              "\n",
              "    .dataframe thead th {\n",
              "        text-align: right;\n",
              "    }\n",
              "</style>\n",
              "<table border=\"1\" class=\"dataframe\">\n",
              "  <thead>\n",
              "    <tr style=\"text-align: right;\">\n",
              "      <th></th>\n",
              "      <th>price_check_date</th>\n",
              "      <th>float_price_check_hour</th>\n",
              "      <th>price_check_hour</th>\n",
              "      <th>price_check_time</th>\n",
              "      <th>passenger</th>\n",
              "      <th>origin</th>\n",
              "      <th>destination</th>\n",
              "      <th>price</th>\n",
              "      <th>subsidy</th>\n",
              "      <th>price_after_subsidy</th>\n",
              "      <th>distance</th>\n",
              "      <th>expected_duration</th>\n",
              "      <th>req_date</th>\n",
              "      <th>float_req_hour</th>\n",
              "      <th>req_hour</th>\n",
              "      <th>req_time</th>\n",
              "      <th>driver</th>\n",
              "      <th>status</th>\n",
              "    </tr>\n",
              "  </thead>\n",
              "  <tbody>\n",
              "    <tr>\n",
              "      <th>655</th>\n",
              "      <td>2021-01-02</td>\n",
              "      <td>17.300000</td>\n",
              "      <td>17</td>\n",
              "      <td>17:18:00</td>\n",
              "      <td>6747</td>\n",
              "      <td>0</td>\n",
              "      <td>0</td>\n",
              "      <td>65000</td>\n",
              "      <td>10000</td>\n",
              "      <td>55000</td>\n",
              "      <td>3608.0</td>\n",
              "      <td>7.0</td>\n",
              "      <td>2021-01-02</td>\n",
              "      <td>17.383333</td>\n",
              "      <td>17</td>\n",
              "      <td>17:23:00</td>\n",
              "      <td>1.0</td>\n",
              "      <td>1.0</td>\n",
              "    </tr>\n",
              "    <tr>\n",
              "      <th>656</th>\n",
              "      <td>2021-01-03</td>\n",
              "      <td>23.883333</td>\n",
              "      <td>23</td>\n",
              "      <td>23:53:00</td>\n",
              "      <td>0</td>\n",
              "      <td>0</td>\n",
              "      <td>0</td>\n",
              "      <td>55000</td>\n",
              "      <td>10000</td>\n",
              "      <td>45000</td>\n",
              "      <td>4155.0</td>\n",
              "      <td>8.0</td>\n",
              "      <td>2021-01-04</td>\n",
              "      <td>0.033333</td>\n",
              "      <td>0</td>\n",
              "      <td>00:02:00</td>\n",
              "      <td>2.0</td>\n",
              "      <td>1.0</td>\n",
              "    </tr>\n",
              "    <tr>\n",
              "      <th>657</th>\n",
              "      <td>2021-01-04</td>\n",
              "      <td>7.983333</td>\n",
              "      <td>7</td>\n",
              "      <td>07:59:00</td>\n",
              "      <td>1077</td>\n",
              "      <td>0</td>\n",
              "      <td>0</td>\n",
              "      <td>70000</td>\n",
              "      <td>10000</td>\n",
              "      <td>60000</td>\n",
              "      <td>6526.0</td>\n",
              "      <td>10.0</td>\n",
              "      <td>2021-01-04</td>\n",
              "      <td>8.016667</td>\n",
              "      <td>8</td>\n",
              "      <td>08:01:00</td>\n",
              "      <td>2.0</td>\n",
              "      <td>1.0</td>\n",
              "    </tr>\n",
              "    <tr>\n",
              "      <th>658</th>\n",
              "      <td>2021-01-01</td>\n",
              "      <td>10.666667</td>\n",
              "      <td>10</td>\n",
              "      <td>10:40:00</td>\n",
              "      <td>1177</td>\n",
              "      <td>0</td>\n",
              "      <td>0</td>\n",
              "      <td>55000</td>\n",
              "      <td>10000</td>\n",
              "      <td>45000</td>\n",
              "      <td>3535.0</td>\n",
              "      <td>6.0</td>\n",
              "      <td>2021-01-01</td>\n",
              "      <td>10.716667</td>\n",
              "      <td>10</td>\n",
              "      <td>10:43:00</td>\n",
              "      <td>2.0</td>\n",
              "      <td>2.0</td>\n",
              "    </tr>\n",
              "    <tr>\n",
              "      <th>659</th>\n",
              "      <td>2021-01-05</td>\n",
              "      <td>10.200000</td>\n",
              "      <td>10</td>\n",
              "      <td>10:12:00</td>\n",
              "      <td>1740</td>\n",
              "      <td>0</td>\n",
              "      <td>0</td>\n",
              "      <td>50000</td>\n",
              "      <td>10000</td>\n",
              "      <td>40000</td>\n",
              "      <td>3088.0</td>\n",
              "      <td>7.0</td>\n",
              "      <td>2021-01-05</td>\n",
              "      <td>10.216667</td>\n",
              "      <td>10</td>\n",
              "      <td>10:13:00</td>\n",
              "      <td>2.0</td>\n",
              "      <td>1.0</td>\n",
              "    </tr>\n",
              "    <tr>\n",
              "      <th>...</th>\n",
              "      <td>...</td>\n",
              "      <td>...</td>\n",
              "      <td>...</td>\n",
              "      <td>...</td>\n",
              "      <td>...</td>\n",
              "      <td>...</td>\n",
              "      <td>...</td>\n",
              "      <td>...</td>\n",
              "      <td>...</td>\n",
              "      <td>...</td>\n",
              "      <td>...</td>\n",
              "      <td>...</td>\n",
              "      <td>...</td>\n",
              "      <td>...</td>\n",
              "      <td>...</td>\n",
              "      <td>...</td>\n",
              "      <td>...</td>\n",
              "      <td>...</td>\n",
              "    </tr>\n",
              "    <tr>\n",
              "      <th>26763</th>\n",
              "      <td>2021-01-07</td>\n",
              "      <td>10.316667</td>\n",
              "      <td>10</td>\n",
              "      <td>10:19:00</td>\n",
              "      <td>3547</td>\n",
              "      <td>4</td>\n",
              "      <td>4</td>\n",
              "      <td>35000</td>\n",
              "      <td>10000</td>\n",
              "      <td>25000</td>\n",
              "      <td>1258.0</td>\n",
              "      <td>2.0</td>\n",
              "      <td>2021-01-07</td>\n",
              "      <td>10.350000</td>\n",
              "      <td>10</td>\n",
              "      <td>10:21:00</td>\n",
              "      <td>1642.0</td>\n",
              "      <td>1.0</td>\n",
              "    </tr>\n",
              "    <tr>\n",
              "      <th>26764</th>\n",
              "      <td>2021-01-03</td>\n",
              "      <td>16.433333</td>\n",
              "      <td>16</td>\n",
              "      <td>16:26:00</td>\n",
              "      <td>4478</td>\n",
              "      <td>4</td>\n",
              "      <td>4</td>\n",
              "      <td>35000</td>\n",
              "      <td>0</td>\n",
              "      <td>35000</td>\n",
              "      <td>154.0</td>\n",
              "      <td>1.0</td>\n",
              "      <td>2021-01-03</td>\n",
              "      <td>16.566667</td>\n",
              "      <td>16</td>\n",
              "      <td>16:34:00</td>\n",
              "      <td>1649.0</td>\n",
              "      <td>1.0</td>\n",
              "    </tr>\n",
              "    <tr>\n",
              "      <th>26765</th>\n",
              "      <td>2021-01-06</td>\n",
              "      <td>17.483333</td>\n",
              "      <td>17</td>\n",
              "      <td>17:29:00</td>\n",
              "      <td>4333</td>\n",
              "      <td>4</td>\n",
              "      <td>4</td>\n",
              "      <td>45000</td>\n",
              "      <td>10000</td>\n",
              "      <td>35000</td>\n",
              "      <td>1088.0</td>\n",
              "      <td>3.0</td>\n",
              "      <td>2021-01-06</td>\n",
              "      <td>17.550000</td>\n",
              "      <td>17</td>\n",
              "      <td>17:33:00</td>\n",
              "      <td>1676.0</td>\n",
              "      <td>1.0</td>\n",
              "    </tr>\n",
              "    <tr>\n",
              "      <th>26766</th>\n",
              "      <td>2021-01-04</td>\n",
              "      <td>16.816667</td>\n",
              "      <td>16</td>\n",
              "      <td>16:49:00</td>\n",
              "      <td>4594</td>\n",
              "      <td>4</td>\n",
              "      <td>4</td>\n",
              "      <td>60000</td>\n",
              "      <td>15000</td>\n",
              "      <td>45000</td>\n",
              "      <td>2299.0</td>\n",
              "      <td>5.0</td>\n",
              "      <td>2021-01-04</td>\n",
              "      <td>16.833333</td>\n",
              "      <td>16</td>\n",
              "      <td>16:50:00</td>\n",
              "      <td>1685.0</td>\n",
              "      <td>1.0</td>\n",
              "    </tr>\n",
              "    <tr>\n",
              "      <th>26767</th>\n",
              "      <td>2021-01-05</td>\n",
              "      <td>20.083333</td>\n",
              "      <td>20</td>\n",
              "      <td>20:05:00</td>\n",
              "      <td>6062</td>\n",
              "      <td>4</td>\n",
              "      <td>4</td>\n",
              "      <td>35000</td>\n",
              "      <td>10000</td>\n",
              "      <td>25000</td>\n",
              "      <td>1717.0</td>\n",
              "      <td>5.0</td>\n",
              "      <td>2021-01-05</td>\n",
              "      <td>20.150000</td>\n",
              "      <td>20</td>\n",
              "      <td>20:09:00</td>\n",
              "      <td>1728.0</td>\n",
              "      <td>1.0</td>\n",
              "    </tr>\n",
              "  </tbody>\n",
              "</table>\n",
              "<p>14123 rows × 18 columns</p>\n",
              "</div>\n",
              "      <button class=\"colab-df-convert\" onclick=\"convertToInteractive('df-e46a34d5-1606-4b1f-9e77-26d6db682cfc')\"\n",
              "              title=\"Convert this dataframe to an interactive table.\"\n",
              "              style=\"display:none;\">\n",
              "        \n",
              "  <svg xmlns=\"http://www.w3.org/2000/svg\" height=\"24px\"viewBox=\"0 0 24 24\"\n",
              "       width=\"24px\">\n",
              "    <path d=\"M0 0h24v24H0V0z\" fill=\"none\"/>\n",
              "    <path d=\"M18.56 5.44l.94 2.06.94-2.06 2.06-.94-2.06-.94-.94-2.06-.94 2.06-2.06.94zm-11 1L8.5 8.5l.94-2.06 2.06-.94-2.06-.94L8.5 2.5l-.94 2.06-2.06.94zm10 10l.94 2.06.94-2.06 2.06-.94-2.06-.94-.94-2.06-.94 2.06-2.06.94z\"/><path d=\"M17.41 7.96l-1.37-1.37c-.4-.4-.92-.59-1.43-.59-.52 0-1.04.2-1.43.59L10.3 9.45l-7.72 7.72c-.78.78-.78 2.05 0 2.83L4 21.41c.39.39.9.59 1.41.59.51 0 1.02-.2 1.41-.59l7.78-7.78 2.81-2.81c.8-.78.8-2.07 0-2.86zM5.41 20L4 18.59l7.72-7.72 1.47 1.35L5.41 20z\"/>\n",
              "  </svg>\n",
              "      </button>\n",
              "      \n",
              "  <style>\n",
              "    .colab-df-container {\n",
              "      display:flex;\n",
              "      flex-wrap:wrap;\n",
              "      gap: 12px;\n",
              "    }\n",
              "\n",
              "    .colab-df-convert {\n",
              "      background-color: #E8F0FE;\n",
              "      border: none;\n",
              "      border-radius: 50%;\n",
              "      cursor: pointer;\n",
              "      display: none;\n",
              "      fill: #1967D2;\n",
              "      height: 32px;\n",
              "      padding: 0 0 0 0;\n",
              "      width: 32px;\n",
              "    }\n",
              "\n",
              "    .colab-df-convert:hover {\n",
              "      background-color: #E2EBFA;\n",
              "      box-shadow: 0px 1px 2px rgba(60, 64, 67, 0.3), 0px 1px 3px 1px rgba(60, 64, 67, 0.15);\n",
              "      fill: #174EA6;\n",
              "    }\n",
              "\n",
              "    [theme=dark] .colab-df-convert {\n",
              "      background-color: #3B4455;\n",
              "      fill: #D2E3FC;\n",
              "    }\n",
              "\n",
              "    [theme=dark] .colab-df-convert:hover {\n",
              "      background-color: #434B5C;\n",
              "      box-shadow: 0px 1px 3px 1px rgba(0, 0, 0, 0.15);\n",
              "      filter: drop-shadow(0px 1px 2px rgba(0, 0, 0, 0.3));\n",
              "      fill: #FFFFFF;\n",
              "    }\n",
              "  </style>\n",
              "\n",
              "      <script>\n",
              "        const buttonEl =\n",
              "          document.querySelector('#df-e46a34d5-1606-4b1f-9e77-26d6db682cfc button.colab-df-convert');\n",
              "        buttonEl.style.display =\n",
              "          google.colab.kernel.accessAllowed ? 'block' : 'none';\n",
              "\n",
              "        async function convertToInteractive(key) {\n",
              "          const element = document.querySelector('#df-e46a34d5-1606-4b1f-9e77-26d6db682cfc');\n",
              "          const dataTable =\n",
              "            await google.colab.kernel.invokeFunction('convertToInteractive',\n",
              "                                                     [key], {});\n",
              "          if (!dataTable) return;\n",
              "\n",
              "          const docLinkHtml = 'Like what you see? Visit the ' +\n",
              "            '<a target=\"_blank\" href=https://colab.research.google.com/notebooks/data_table.ipynb>data table notebook</a>'\n",
              "            + ' to learn more about interactive tables.';\n",
              "          element.innerHTML = '';\n",
              "          dataTable['output_type'] = 'display_data';\n",
              "          await google.colab.output.renderOutput(dataTable, element);\n",
              "          const docLink = document.createElement('div');\n",
              "          docLink.innerHTML = docLinkHtml;\n",
              "          element.appendChild(docLink);\n",
              "        }\n",
              "      </script>\n",
              "    </div>\n",
              "  </div>\n",
              "  "
            ]
          },
          "metadata": {},
          "execution_count": 16
        }
      ]
    },
    {
      "cell_type": "code",
      "source": [
        "df2.info()"
      ],
      "metadata": {
        "id": "jya3-dGPrADl",
        "colab": {
          "base_uri": "https://localhost:8080/"
        },
        "outputId": "4522d468-bc94-4f72-d0a0-4b1646d93c22"
      },
      "execution_count": null,
      "outputs": [
        {
          "output_type": "stream",
          "name": "stdout",
          "text": [
            "<class 'pandas.core.frame.DataFrame'>\n",
            "Int64Index: 14123 entries, 655 to 26767\n",
            "Data columns (total 18 columns):\n",
            " #   Column                  Non-Null Count  Dtype  \n",
            "---  ------                  --------------  -----  \n",
            " 0   price_check_date        14123 non-null  object \n",
            " 1   float_price_check_hour  14123 non-null  float64\n",
            " 2   price_check_hour        14123 non-null  int64  \n",
            " 3   price_check_time        14123 non-null  object \n",
            " 4   passenger               14123 non-null  int64  \n",
            " 5   origin                  14123 non-null  int64  \n",
            " 6   destination             14123 non-null  int64  \n",
            " 7   price                   14123 non-null  int64  \n",
            " 8   subsidy                 14123 non-null  int64  \n",
            " 9   price_after_subsidy     14123 non-null  int64  \n",
            " 10  distance                14123 non-null  float64\n",
            " 11  expected_duration       14123 non-null  float64\n",
            " 12  req_date                14123 non-null  object \n",
            " 13  float_req_hour          14123 non-null  float64\n",
            " 14  req_hour                14123 non-null  int64  \n",
            " 15  req_time                14123 non-null  object \n",
            " 16  driver                  14123 non-null  float64\n",
            " 17  status                  14123 non-null  float64\n",
            "dtypes: float64(6), int64(8), object(4)\n",
            "memory usage: 2.0+ MB\n"
          ]
        }
      ]
    },
    {
      "cell_type": "markdown",
      "source": [
        "قسمت دوم-ماتریس او دی تقاضای سفر"
      ],
      "metadata": {
        "id": "Xg-a17FUtNo5"
      }
    },
    {
      "cell_type": "code",
      "source": [
        "OD1 = modified_df.pivot_table(values='destination', index=modified_df[\"origin\"],  columns = modified_df[\"destination\"], fill_value=0, aggfunc=len)"
      ],
      "metadata": {
        "id": "PcbOCd3srH-k"
      },
      "execution_count": null,
      "outputs": []
    },
    {
      "cell_type": "code",
      "source": [
        "OD1"
      ],
      "metadata": {
        "colab": {
          "base_uri": "https://localhost:8080/",
          "height": 237
        },
        "id": "bIj_QCco5yyo",
        "outputId": "43af6fc0-4de9-4137-a496-c11edd6882a1"
      },
      "execution_count": null,
      "outputs": [
        {
          "output_type": "execute_result",
          "data": {
            "text/plain": [
              "destination     0     1    2     3    4\n",
              "origin                                 \n",
              "0             760   533  513     0    0\n",
              "1            2239  1919  834     0    0\n",
              "2            2134  1906  616     1    0\n",
              "3               0     0    0  1823  358\n",
              "4               0     0    0   297  190"
            ],
            "text/html": [
              "\n",
              "  <div id=\"df-2d4b306f-5eec-4198-b2a1-3eb8ec4901e1\">\n",
              "    <div class=\"colab-df-container\">\n",
              "      <div>\n",
              "<style scoped>\n",
              "    .dataframe tbody tr th:only-of-type {\n",
              "        vertical-align: middle;\n",
              "    }\n",
              "\n",
              "    .dataframe tbody tr th {\n",
              "        vertical-align: top;\n",
              "    }\n",
              "\n",
              "    .dataframe thead th {\n",
              "        text-align: right;\n",
              "    }\n",
              "</style>\n",
              "<table border=\"1\" class=\"dataframe\">\n",
              "  <thead>\n",
              "    <tr style=\"text-align: right;\">\n",
              "      <th>destination</th>\n",
              "      <th>0</th>\n",
              "      <th>1</th>\n",
              "      <th>2</th>\n",
              "      <th>3</th>\n",
              "      <th>4</th>\n",
              "    </tr>\n",
              "    <tr>\n",
              "      <th>origin</th>\n",
              "      <th></th>\n",
              "      <th></th>\n",
              "      <th></th>\n",
              "      <th></th>\n",
              "      <th></th>\n",
              "    </tr>\n",
              "  </thead>\n",
              "  <tbody>\n",
              "    <tr>\n",
              "      <th>0</th>\n",
              "      <td>760</td>\n",
              "      <td>533</td>\n",
              "      <td>513</td>\n",
              "      <td>0</td>\n",
              "      <td>0</td>\n",
              "    </tr>\n",
              "    <tr>\n",
              "      <th>1</th>\n",
              "      <td>2239</td>\n",
              "      <td>1919</td>\n",
              "      <td>834</td>\n",
              "      <td>0</td>\n",
              "      <td>0</td>\n",
              "    </tr>\n",
              "    <tr>\n",
              "      <th>2</th>\n",
              "      <td>2134</td>\n",
              "      <td>1906</td>\n",
              "      <td>616</td>\n",
              "      <td>1</td>\n",
              "      <td>0</td>\n",
              "    </tr>\n",
              "    <tr>\n",
              "      <th>3</th>\n",
              "      <td>0</td>\n",
              "      <td>0</td>\n",
              "      <td>0</td>\n",
              "      <td>1823</td>\n",
              "      <td>358</td>\n",
              "    </tr>\n",
              "    <tr>\n",
              "      <th>4</th>\n",
              "      <td>0</td>\n",
              "      <td>0</td>\n",
              "      <td>0</td>\n",
              "      <td>297</td>\n",
              "      <td>190</td>\n",
              "    </tr>\n",
              "  </tbody>\n",
              "</table>\n",
              "</div>\n",
              "      <button class=\"colab-df-convert\" onclick=\"convertToInteractive('df-2d4b306f-5eec-4198-b2a1-3eb8ec4901e1')\"\n",
              "              title=\"Convert this dataframe to an interactive table.\"\n",
              "              style=\"display:none;\">\n",
              "        \n",
              "  <svg xmlns=\"http://www.w3.org/2000/svg\" height=\"24px\"viewBox=\"0 0 24 24\"\n",
              "       width=\"24px\">\n",
              "    <path d=\"M0 0h24v24H0V0z\" fill=\"none\"/>\n",
              "    <path d=\"M18.56 5.44l.94 2.06.94-2.06 2.06-.94-2.06-.94-.94-2.06-.94 2.06-2.06.94zm-11 1L8.5 8.5l.94-2.06 2.06-.94-2.06-.94L8.5 2.5l-.94 2.06-2.06.94zm10 10l.94 2.06.94-2.06 2.06-.94-2.06-.94-.94-2.06-.94 2.06-2.06.94z\"/><path d=\"M17.41 7.96l-1.37-1.37c-.4-.4-.92-.59-1.43-.59-.52 0-1.04.2-1.43.59L10.3 9.45l-7.72 7.72c-.78.78-.78 2.05 0 2.83L4 21.41c.39.39.9.59 1.41.59.51 0 1.02-.2 1.41-.59l7.78-7.78 2.81-2.81c.8-.78.8-2.07 0-2.86zM5.41 20L4 18.59l7.72-7.72 1.47 1.35L5.41 20z\"/>\n",
              "  </svg>\n",
              "      </button>\n",
              "      \n",
              "  <style>\n",
              "    .colab-df-container {\n",
              "      display:flex;\n",
              "      flex-wrap:wrap;\n",
              "      gap: 12px;\n",
              "    }\n",
              "\n",
              "    .colab-df-convert {\n",
              "      background-color: #E8F0FE;\n",
              "      border: none;\n",
              "      border-radius: 50%;\n",
              "      cursor: pointer;\n",
              "      display: none;\n",
              "      fill: #1967D2;\n",
              "      height: 32px;\n",
              "      padding: 0 0 0 0;\n",
              "      width: 32px;\n",
              "    }\n",
              "\n",
              "    .colab-df-convert:hover {\n",
              "      background-color: #E2EBFA;\n",
              "      box-shadow: 0px 1px 2px rgba(60, 64, 67, 0.3), 0px 1px 3px 1px rgba(60, 64, 67, 0.15);\n",
              "      fill: #174EA6;\n",
              "    }\n",
              "\n",
              "    [theme=dark] .colab-df-convert {\n",
              "      background-color: #3B4455;\n",
              "      fill: #D2E3FC;\n",
              "    }\n",
              "\n",
              "    [theme=dark] .colab-df-convert:hover {\n",
              "      background-color: #434B5C;\n",
              "      box-shadow: 0px 1px 3px 1px rgba(0, 0, 0, 0.15);\n",
              "      filter: drop-shadow(0px 1px 2px rgba(0, 0, 0, 0.3));\n",
              "      fill: #FFFFFF;\n",
              "    }\n",
              "  </style>\n",
              "\n",
              "      <script>\n",
              "        const buttonEl =\n",
              "          document.querySelector('#df-2d4b306f-5eec-4198-b2a1-3eb8ec4901e1 button.colab-df-convert');\n",
              "        buttonEl.style.display =\n",
              "          google.colab.kernel.accessAllowed ? 'block' : 'none';\n",
              "\n",
              "        async function convertToInteractive(key) {\n",
              "          const element = document.querySelector('#df-2d4b306f-5eec-4198-b2a1-3eb8ec4901e1');\n",
              "          const dataTable =\n",
              "            await google.colab.kernel.invokeFunction('convertToInteractive',\n",
              "                                                     [key], {});\n",
              "          if (!dataTable) return;\n",
              "\n",
              "          const docLinkHtml = 'Like what you see? Visit the ' +\n",
              "            '<a target=\"_blank\" href=https://colab.research.google.com/notebooks/data_table.ipynb>data table notebook</a>'\n",
              "            + ' to learn more about interactive tables.';\n",
              "          element.innerHTML = '';\n",
              "          dataTable['output_type'] = 'display_data';\n",
              "          await google.colab.output.renderOutput(dataTable, element);\n",
              "          const docLink = document.createElement('div');\n",
              "          docLink.innerHTML = docLinkHtml;\n",
              "          element.appendChild(docLink);\n",
              "        }\n",
              "      </script>\n",
              "    </div>\n",
              "  </div>\n",
              "  "
            ]
          },
          "metadata": {},
          "execution_count": 19
        }
      ]
    },
    {
      "cell_type": "markdown",
      "source": [
        "قسمت سوم- ماتریس او دی سفرهای انجام شده"
      ],
      "metadata": {
        "id": "2eHGl53syyaJ"
      }
    },
    {
      "cell_type": "code",
      "source": [
        "modified_df1 = modified_df[modified_df.status == 1.0] #فقط حالت اول\n",
        "OD2 = modified_df1.pivot_table(values='destination', index=modified_df1[\"origin\"], columns = modified_df1[\"destination\"],  fill_value=0, aggfunc=len)"
      ],
      "metadata": {
        "id": "fF_Ii2EQyxI3"
      },
      "execution_count": null,
      "outputs": []
    },
    {
      "cell_type": "code",
      "source": [
        "OD2"
      ],
      "metadata": {
        "colab": {
          "base_uri": "https://localhost:8080/",
          "height": 237
        },
        "id": "LVCPBLte6LP_",
        "outputId": "a9760517-9862-4f06-c35d-d1f66e144670"
      },
      "execution_count": null,
      "outputs": [
        {
          "output_type": "execute_result",
          "data": {
            "text/plain": [
              "destination     0     1    2     3    4\n",
              "origin                                 \n",
              "0             676   450  452     0    0\n",
              "1            2006  1720  744     0    0\n",
              "2            1899  1701  545     1    0\n",
              "3               0     0    0  1626  329\n",
              "4               0     0    0   265  171"
            ],
            "text/html": [
              "\n",
              "  <div id=\"df-81a30bcd-e975-466c-85f8-23731e86e4a5\">\n",
              "    <div class=\"colab-df-container\">\n",
              "      <div>\n",
              "<style scoped>\n",
              "    .dataframe tbody tr th:only-of-type {\n",
              "        vertical-align: middle;\n",
              "    }\n",
              "\n",
              "    .dataframe tbody tr th {\n",
              "        vertical-align: top;\n",
              "    }\n",
              "\n",
              "    .dataframe thead th {\n",
              "        text-align: right;\n",
              "    }\n",
              "</style>\n",
              "<table border=\"1\" class=\"dataframe\">\n",
              "  <thead>\n",
              "    <tr style=\"text-align: right;\">\n",
              "      <th>destination</th>\n",
              "      <th>0</th>\n",
              "      <th>1</th>\n",
              "      <th>2</th>\n",
              "      <th>3</th>\n",
              "      <th>4</th>\n",
              "    </tr>\n",
              "    <tr>\n",
              "      <th>origin</th>\n",
              "      <th></th>\n",
              "      <th></th>\n",
              "      <th></th>\n",
              "      <th></th>\n",
              "      <th></th>\n",
              "    </tr>\n",
              "  </thead>\n",
              "  <tbody>\n",
              "    <tr>\n",
              "      <th>0</th>\n",
              "      <td>676</td>\n",
              "      <td>450</td>\n",
              "      <td>452</td>\n",
              "      <td>0</td>\n",
              "      <td>0</td>\n",
              "    </tr>\n",
              "    <tr>\n",
              "      <th>1</th>\n",
              "      <td>2006</td>\n",
              "      <td>1720</td>\n",
              "      <td>744</td>\n",
              "      <td>0</td>\n",
              "      <td>0</td>\n",
              "    </tr>\n",
              "    <tr>\n",
              "      <th>2</th>\n",
              "      <td>1899</td>\n",
              "      <td>1701</td>\n",
              "      <td>545</td>\n",
              "      <td>1</td>\n",
              "      <td>0</td>\n",
              "    </tr>\n",
              "    <tr>\n",
              "      <th>3</th>\n",
              "      <td>0</td>\n",
              "      <td>0</td>\n",
              "      <td>0</td>\n",
              "      <td>1626</td>\n",
              "      <td>329</td>\n",
              "    </tr>\n",
              "    <tr>\n",
              "      <th>4</th>\n",
              "      <td>0</td>\n",
              "      <td>0</td>\n",
              "      <td>0</td>\n",
              "      <td>265</td>\n",
              "      <td>171</td>\n",
              "    </tr>\n",
              "  </tbody>\n",
              "</table>\n",
              "</div>\n",
              "      <button class=\"colab-df-convert\" onclick=\"convertToInteractive('df-81a30bcd-e975-466c-85f8-23731e86e4a5')\"\n",
              "              title=\"Convert this dataframe to an interactive table.\"\n",
              "              style=\"display:none;\">\n",
              "        \n",
              "  <svg xmlns=\"http://www.w3.org/2000/svg\" height=\"24px\"viewBox=\"0 0 24 24\"\n",
              "       width=\"24px\">\n",
              "    <path d=\"M0 0h24v24H0V0z\" fill=\"none\"/>\n",
              "    <path d=\"M18.56 5.44l.94 2.06.94-2.06 2.06-.94-2.06-.94-.94-2.06-.94 2.06-2.06.94zm-11 1L8.5 8.5l.94-2.06 2.06-.94-2.06-.94L8.5 2.5l-.94 2.06-2.06.94zm10 10l.94 2.06.94-2.06 2.06-.94-2.06-.94-.94-2.06-.94 2.06-2.06.94z\"/><path d=\"M17.41 7.96l-1.37-1.37c-.4-.4-.92-.59-1.43-.59-.52 0-1.04.2-1.43.59L10.3 9.45l-7.72 7.72c-.78.78-.78 2.05 0 2.83L4 21.41c.39.39.9.59 1.41.59.51 0 1.02-.2 1.41-.59l7.78-7.78 2.81-2.81c.8-.78.8-2.07 0-2.86zM5.41 20L4 18.59l7.72-7.72 1.47 1.35L5.41 20z\"/>\n",
              "  </svg>\n",
              "      </button>\n",
              "      \n",
              "  <style>\n",
              "    .colab-df-container {\n",
              "      display:flex;\n",
              "      flex-wrap:wrap;\n",
              "      gap: 12px;\n",
              "    }\n",
              "\n",
              "    .colab-df-convert {\n",
              "      background-color: #E8F0FE;\n",
              "      border: none;\n",
              "      border-radius: 50%;\n",
              "      cursor: pointer;\n",
              "      display: none;\n",
              "      fill: #1967D2;\n",
              "      height: 32px;\n",
              "      padding: 0 0 0 0;\n",
              "      width: 32px;\n",
              "    }\n",
              "\n",
              "    .colab-df-convert:hover {\n",
              "      background-color: #E2EBFA;\n",
              "      box-shadow: 0px 1px 2px rgba(60, 64, 67, 0.3), 0px 1px 3px 1px rgba(60, 64, 67, 0.15);\n",
              "      fill: #174EA6;\n",
              "    }\n",
              "\n",
              "    [theme=dark] .colab-df-convert {\n",
              "      background-color: #3B4455;\n",
              "      fill: #D2E3FC;\n",
              "    }\n",
              "\n",
              "    [theme=dark] .colab-df-convert:hover {\n",
              "      background-color: #434B5C;\n",
              "      box-shadow: 0px 1px 3px 1px rgba(0, 0, 0, 0.15);\n",
              "      filter: drop-shadow(0px 1px 2px rgba(0, 0, 0, 0.3));\n",
              "      fill: #FFFFFF;\n",
              "    }\n",
              "  </style>\n",
              "\n",
              "      <script>\n",
              "        const buttonEl =\n",
              "          document.querySelector('#df-81a30bcd-e975-466c-85f8-23731e86e4a5 button.colab-df-convert');\n",
              "        buttonEl.style.display =\n",
              "          google.colab.kernel.accessAllowed ? 'block' : 'none';\n",
              "\n",
              "        async function convertToInteractive(key) {\n",
              "          const element = document.querySelector('#df-81a30bcd-e975-466c-85f8-23731e86e4a5');\n",
              "          const dataTable =\n",
              "            await google.colab.kernel.invokeFunction('convertToInteractive',\n",
              "                                                     [key], {});\n",
              "          if (!dataTable) return;\n",
              "\n",
              "          const docLinkHtml = 'Like what you see? Visit the ' +\n",
              "            '<a target=\"_blank\" href=https://colab.research.google.com/notebooks/data_table.ipynb>data table notebook</a>'\n",
              "            + ' to learn more about interactive tables.';\n",
              "          element.innerHTML = '';\n",
              "          dataTable['output_type'] = 'display_data';\n",
              "          await google.colab.output.renderOutput(dataTable, element);\n",
              "          const docLink = document.createElement('div');\n",
              "          docLink.innerHTML = docLinkHtml;\n",
              "          element.appendChild(docLink);\n",
              "        }\n",
              "      </script>\n",
              "    </div>\n",
              "  </div>\n",
              "  "
            ]
          },
          "metadata": {},
          "execution_count": 21
        }
      ]
    },
    {
      "cell_type": "markdown",
      "source": [
        "قسمت چهارم"
      ],
      "metadata": {
        "id": "csUKBefA6COa"
      }
    },
    {
      "cell_type": "code",
      "source": [
        "a = (OD1-OD2)*100\n",
        "b = (OD1.sum()).sum()\n",
        "d = ((a/b).sum()).sum()\n",
        "dd = round(d,2)  # درصد کل سفرهایی که انجام نشده اند\n",
        "print('the percentage of requested trips(not happened):', dd)\n",
        "c = round((a/b),2)\n",
        "cc = (c.max()).max() # درصد ماکسیمم سفرهایی که از یک مبدا به یک مقصد انجام نشده اند"
      ],
      "metadata": {
        "id": "rIxJ_Jl34uNs",
        "colab": {
          "base_uri": "https://localhost:8080/"
        },
        "outputId": "e5eab1ae-3b90-4fc6-ad66-db2b184d73a6"
      },
      "execution_count": null,
      "outputs": [
        {
          "output_type": "stream",
          "name": "stdout",
          "text": [
            "the percentage of requested trips(not happened): 10.89\n"
          ]
        }
      ]
    },
    {
      "cell_type": "code",
      "source": [
        "for i in range (len(c)):\n",
        "  for j in range (len(c)):\n",
        "    if c.iloc[i][j]==cc:\n",
        "      print('maximum unhappend trips are from origin',i,'to destination',j)"
      ],
      "metadata": {
        "id": "AnHEXM-m7Qp6",
        "colab": {
          "base_uri": "https://localhost:8080/"
        },
        "outputId": "1e518f29-86ce-4386-ec45-36376a7e9575"
      },
      "execution_count": null,
      "outputs": [
        {
          "output_type": "stream",
          "name": "stdout",
          "text": [
            "maximum unhappend trips are from origin 2 to destination 0\n"
          ]
        }
      ]
    },
    {
      "cell_type": "markdown",
      "source": [
        "قسمت پنجم"
      ],
      "metadata": {
        "id": "ynbRa-Z_CFne"
      }
    },
    {
      "cell_type": "code",
      "source": [
        "sns.displot(data=modified_df, x=\"float_req_hour\", kde=True, rug = False, height = 10,aspect = 1.8,bins=24,color = 'purple')\n",
        "plt.xticks( np.arange(24),labels=np.arange(24))\n",
        "plt.title(\"Request Time distributions\")\n",
        "plt.xlabel('Hour')\n",
        "plt.show()"
      ],
      "metadata": {
        "id": "uPewx4Ut7lBL",
        "colab": {
          "base_uri": "https://localhost:8080/",
          "height": 742
        },
        "outputId": "c468f7c5-03dc-409f-d81a-962b81a2e476"
      },
      "execution_count": null,
      "outputs": [
        {
          "output_type": "display_data",
          "data": {
            "text/plain": [
              "<Figure size 1296x720 with 1 Axes>"
            ],
            "image/png": "[encoded data removed]"
          },
          "metadata": {
            "needs_background": "light"
          }
        }
      ]
    },
    {
      "cell_type": "markdown",
      "source": [
        "قسمت ششم-آزمون تی جهت بررسی برابری یا عدم برابری میانگینها"
      ],
      "metadata": {
        "id": "7w04zYXHpKPy"
      }
    },
    {
      "cell_type": "code",
      "source": [
        "t_test1 = ttest_ind(modified_df[modified_df['status']==2].price, modified_df[modified_df['status']!=2].price, equal_var=True)\n",
        "print('The p-value is:', t_test1.pvalue)\n"
      ],
      "metadata": {
        "colab": {
          "base_uri": "https://localhost:8080/"
        },
        "id": "nLKxlSO0pJue",
        "outputId": "176dbfd5-ff63-407b-b036-e798a0047fb6"
      },
      "execution_count": null,
      "outputs": [
        {
          "output_type": "stream",
          "name": "stdout",
          "text": [
            "The p-value is: 0.10786565336055738\n"
          ]
        }
      ]
    },
    {
      "cell_type": "code",
      "execution_count": null,
      "metadata": {
        "id": "f39SBq-0sN5E"
      },
      "outputs": [],
      "source": [
        "قسمت هفتم-آزمون تی جهت بررسی برابری یا عدم برابری میانگینها"
      ]
    },
    {
      "cell_type": "code",
      "source": [
        "t_test2 = ttest_ind(modified_df[modified_df['status']==3].price, modified_df[modified_df['status']!=3].price, equal_var=True)\n",
        "print('The p-value is:', t_test2.pvalue)\n"
      ],
      "metadata": {
        "colab": {
          "base_uri": "https://localhost:8080/"
        },
        "id": "beutZbVVsmd2",
        "outputId": "9a0a20eb-7137-4b65-9826-cbd5e218a1f3"
      },
      "execution_count": null,
      "outputs": [
        {
          "output_type": "stream",
          "name": "stdout",
          "text": [
            "The p-value is: 0.6664686796151782\n"
          ]
        }
      ]
    },
    {
      "cell_type": "markdown",
      "source": [
        "قسمت هشتم"
      ],
      "metadata": {
        "id": "us200sNQtbU3"
      }
    },
    {
      "cell_type": "code",
      "source": [
        "peak_index = ((modified_df.float_req_hour<=8)&(modified_df.float_req_hour>=6)|(modified_df.float_req_hour<=19)&(modified_df.float_req_hour>=16))\n",
        "n_A = len(modified_df[peak_index])\n",
        "n_B = len(modified_df[~peak_index])\n",
        "p_A = len(modified_df[peak_index][modified_df.status == 3])/len(modified_df[peak_index])\n",
        "p_B = len(modified_df[~peak_index][modified_df.status == 3])/len(modified_df[~peak_index])\n",
        "p_tot = len(modified_df[modified_df.status == 3])/len(modified_df)\n",
        "SE_p = (p_tot*(1-p_tot)*(1/n_A + 1/n_B))**0.5\n",
        "print(f\"p_A =\\t%.4f\\np_B =\\t%.4f\\np_tot =\\t%.4f\\nSE_p:\\t%.4f\" %(p_A,p_B,p_tot,SE_p))"
      ],
      "metadata": {
        "colab": {
          "base_uri": "https://localhost:8080/"
        },
        "id": "eSUIyPMYteUB",
        "outputId": "3ba06f6f-4f63-44bd-bb6c-e3bb4406b8b3"
      },
      "execution_count": null,
      "outputs": [
        {
          "output_type": "stream",
          "name": "stdout",
          "text": [
            "p_A =\t0.0502\n",
            "p_B =\t0.0501\n",
            "p_tot =\t0.0501\n",
            "SE_p:\t0.0041\n"
          ]
        }
      ]
    },
    {
      "cell_type": "code",
      "source": [
        "Z = (p_A - p_B)/SE_p\n",
        "pvalue_peak= norm.sf(Z, loc=0, scale=1)*2\n",
        "print('The p-value is:', pvalue_peak)\n",
        "print('Z:', Z)"
      ],
      "metadata": {
        "colab": {
          "base_uri": "https://localhost:8080/"
        },
        "id": "q432sRWA1EJk",
        "outputId": "23b27b0b-f268-4b11-ed49-a66afb3a884f"
      },
      "execution_count": null,
      "outputs": [
        {
          "output_type": "stream",
          "name": "stdout",
          "text": [
            "The p-value is: 0.9788606156439819\n",
            "Z: 0.026497389628706992\n"
          ]
        }
      ]
    },
    {
      "cell_type": "markdown",
      "source": [
        "قسمت نهم"
      ],
      "metadata": {
        "id": "bzO-6W-5JWsg"
      }
    },
    {
      "cell_type": "code",
      "source": [
        "sns.catplot(x=\"req_hour\", y=\"price\", kind=\"box\", data=modified_df[modified_df.status == 3],showfliers=False, height=6, aspect=3)\n",
        "plt.ylabel('Price')\n",
        "plt.xlabel('Hour')\n",
        "plt.title('Box plot of price in Hours (rejected by driver)')\n",
        "plt.show()"
      ],
      "metadata": {
        "colab": {
          "base_uri": "https://localhost:8080/",
          "height": 455
        },
        "id": "K4k00554JcjP",
        "outputId": "6015a016-f574-459d-893c-0dba84ae169f"
      },
      "execution_count": null,
      "outputs": [
        {
          "output_type": "display_data",
          "data": {
            "text/plain": [
              "<Figure size 1296x432 with 1 Axes>"
            ],
            "image/png": "[encoded data removed]"
          },
          "metadata": {
            "needs_background": "light"
          }
        }
      ]
    },
    {
      "cell_type": "code",
      "source": [],
      "metadata": {
        "id": "KrJrJ3CWbZkg"
      },
      "execution_count": null,
      "outputs": []
    }
  ]
}